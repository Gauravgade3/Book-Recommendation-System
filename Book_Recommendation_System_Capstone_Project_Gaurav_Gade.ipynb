{
  "cells": [
    {
      "cell_type": "markdown",
      "metadata": {
        "id": "view-in-github",
        "colab_type": "text"
      },
      "source": [
        "<a href=\"https://colab.research.google.com/github/Gauravgade3/Book-Recommendation-System/blob/main/Book_Recommendation_System_Capstone_Project_Gaurav_Gade.ipynb\" target=\"_parent\"><img src=\"https://colab.research.google.com/assets/colab-badge.svg\" alt=\"Open In Colab\"/></a>"
      ]
    },
    {
      "cell_type": "markdown",
      "source": [
        "# **Book Recommendation System**"
      ],
      "metadata": {
        "id": "LjPuO7PAI6Ib"
      }
    },
    {
      "cell_type": "markdown",
      "source": [
        "## Problem Statement:\n",
        "\n",
        "\n",
        "During the last few decades, with the rise of Youtube, Amazon, Netflix, and many other such web services, recommender systems have taken more and more place in our lives. From e-commerce (suggest to buyers articles that could interest them) to online advertisement (suggest to users the right contents, matching their preferences), recommender systems are today unavoidable in our daily online journeys.\n",
        "In a very general way, recommender systems are algorithms aimed at suggesting relevant items to users (items being movies to watch, text to read, products to buy, or anything else depending on industries).\n",
        "Recommender systems are really critical in some industries as they can generate a huge amount of income when they are efficient or also be a way to stand out significantly from competitors. The main objective is to create a book recommendation system for users."
      ],
      "metadata": {
        "id": "NBN6H28NI8OH"
      }
    },
    {
      "cell_type": "markdown",
      "source": [
        "## About Dataset:\n",
        "\n",
        "The Book-Crossing dataset comprises 3 files.\n",
        "\n",
        "**Users** :\n",
        "\n",
        "Contains the users. Note that user IDs (User-ID) have been anonymized and map to integers. Demographic data is provided (Location, Age) if available. Otherwise, these fields contain NULL values.\n",
        "\n",
        "\n",
        "**Books** :\n",
        "\n",
        "\n",
        "Books are identified by their respective ISBN. Invalid ISBNs have already been removed from the dataset. Moreover, some content-based information is given (Book-Title, Book-Author, Year-Of-Publication, Publisher), obtained from Amazon Web Services. Note that in the case of several authors, only the first is provided. URLs linking to cover images are also given, appearing in three different flavors (Image-URL-S, Image-URL-M, Image-URL-L), i.e., small, medium, large. These URLs point to the Amazon website.\n",
        "\n",
        "\n",
        "\n",
        "**Ratings** :\n",
        "\n",
        "\n",
        "Contains the book rating information. Ratings (Book-Rating) are either explicit, expressed on a scale from 1-10 (higher values denoting higher appreciation), or implicit, expressed by 0."
      ],
      "metadata": {
        "id": "4MQcUwDOJA3R"
      }
    },
    {
      "cell_type": "code",
      "source": [
        "# mounting the data from google drive\n",
        "from google.colab import drive\n",
        "drive.mount('/content/drive')"
      ],
      "metadata": {
        "id": "A2ZiaoU0Iq4_"
      },
      "execution_count": null,
      "outputs": []
    },
    {
      "cell_type": "code",
      "source": [
        "#importing necessary modules\n",
        "\n",
        "import pandas as pd\n",
        "import sys\n",
        "import numpy as np\n",
        "import matplotlib.pyplot as plt\n",
        "import seaborn as sns"
      ],
      "metadata": {
        "id": "NL14EpR1JGLT"
      },
      "execution_count": null,
      "outputs": []
    },
    {
      "cell_type": "code",
      "source": [
        "# Users dataset\n",
        "\n",
        "users=pd.read_csv('/content/drive/MyDrive/Book Recommendation System/Users.csv')\n",
        "users.head()"
      ],
      "metadata": {
        "id": "ggVW3WOxJGHt"
      },
      "execution_count": null,
      "outputs": []
    },
    {
      "cell_type": "code",
      "source": [
        "#Books dataset\n",
        "books=pd.read_csv('/content/drive/MyDrive/Book Recommendation System/Books.csv')\n",
        "books.head()"
      ],
      "metadata": {
        "id": "-WFC1nmRJGEP"
      },
      "execution_count": null,
      "outputs": []
    },
    {
      "cell_type": "code",
      "source": [
        "#Ratings Dataset\n",
        "ratings=pd.read_csv('/content/drive/MyDrive/Book Recommendation System/Ratings.csv')\n",
        "ratings.head()"
      ],
      "metadata": {
        "id": "MuUKTvlAJGCq"
      },
      "execution_count": null,
      "outputs": []
    },
    {
      "cell_type": "code",
      "source": [
        "print('Shape Of Dataframe\\n')\n",
        "print(f'books:    {(books.shape)}')\n",
        "print(f'users:    {(users.shape)}')\n",
        "print(f'ratings: {(ratings.shape)}')"
      ],
      "metadata": {
        "id": "MWU-G42sJGA_"
      },
      "execution_count": null,
      "outputs": []
    },
    {
      "cell_type": "markdown",
      "source": [
        "### **Users dataset**:"
      ],
      "metadata": {
        "id": "IWkapKQFJUNT"
      }
    },
    {
      "cell_type": "code",
      "source": [
        "users.isnull().sum()"
      ],
      "metadata": {
        "id": "HDuI8yV9JF-t"
      },
      "execution_count": null,
      "outputs": []
    },
    {
      "cell_type": "code",
      "source": [
        "round(users.isnull().mean().mul(100),2)"
      ],
      "metadata": {
        "id": "SmBIQFcoJF8N"
      },
      "execution_count": null,
      "outputs": []
    },
    {
      "cell_type": "markdown",
      "source": [
        "## In the users dataset there are **110762** missing values found in the **Age** column which is **39%** of the total value."
      ],
      "metadata": {
        "id": "FfcA5rLAJa-c"
      }
    },
    {
      "cell_type": "code",
      "source": [
        "# Extracting country from location feature\n",
        "for i in users:\n",
        "    users['Country']=users.Location.str.extract(r'\\,+\\s?(\\w*\\s?\\w*)\\\"*$')\n",
        "\n",
        "print(users.Country.nunique())"
      ],
      "metadata": {
        "id": "ADnVZ4xSJF5q"
      },
      "execution_count": null,
      "outputs": []
    },
    {
      "cell_type": "code",
      "source": [
        "#drop location column\n",
        "users.drop('Location',axis=1,inplace=True)"
      ],
      "metadata": {
        "id": "OA_8x3h3JF20"
      },
      "execution_count": null,
      "outputs": []
    },
    {
      "cell_type": "code",
      "source": [
        "users.head()"
      ],
      "metadata": {
        "id": "25sesvFHJF0D"
      },
      "execution_count": null,
      "outputs": []
    },
    {
      "cell_type": "code",
      "source": [
        "users.isnull().sum()"
      ],
      "metadata": {
        "id": "9lpNRrUKJFxT"
      },
      "execution_count": null,
      "outputs": []
    },
    {
      "cell_type": "code",
      "source": [
        "# Convert data type of country feature\n",
        "users['Country']=users['Country'].astype('str')"
      ],
      "metadata": {
        "id": "VRdYyxUxJFvA"
      },
      "execution_count": null,
      "outputs": []
    },
    {
      "cell_type": "code",
      "source": [
        "a=list(users.Country.unique())\n",
        "a.sort()\n",
        "print(a)"
      ],
      "metadata": {
        "id": "O2BUA_slJFsd"
      },
      "execution_count": null,
      "outputs": []
    },
    {
      "cell_type": "code",
      "source": [
        "#spelt correction\n",
        "users['Country'].replace(['','01776','02458','19104','23232','30064','85021','87510','alachua','america','austria','autralia','cananda','geermany','italia','united kindgonm','united sates','united staes','united state','united states','us'],\n",
        "                           ['other','usa','usa','usa','usa','usa','usa','usa','usa','usa','australia','australia','canada','germany','italy','united kingdom','usa','usa','usa','usa','usa'],inplace=True)"
      ],
      "metadata": {
        "id": "I57K153vJFp_"
      },
      "execution_count": null,
      "outputs": []
    },
    {
      "cell_type": "markdown",
      "source": [
        "## Corrected some of the mis spelt words."
      ],
      "metadata": {
        "id": "fzF2Bm9GJp4z"
      }
    },
    {
      "cell_type": "code",
      "source": [
        "# plotting top 10 countries having highest user\n",
        "plt.figure(figsize=(15,7))\n",
        "plt.style.use('fivethirtyeight')\n",
        "sns.countplot(y='Country',data=users,order=pd.value_counts(users['Country']).iloc[:10].index)\n",
        "plt.title('Country wise User Count')"
      ],
      "metadata": {
        "id": "JhKCty9IJFnk"
      },
      "execution_count": null,
      "outputs": []
    },
    {
      "cell_type": "markdown",
      "source": [
        "## Majority of users belongs to the country USA.\n",
        "## Least users belong to the country Portugal."
      ],
      "metadata": {
        "id": "N3OkRrD6JueN"
      }
    },
    {
      "cell_type": "code",
      "source": [
        "# histogram plot for users age distribution\n",
        "plt.rcParams['figure.figsize'] = (13,7)\n",
        "users.Age.hist(bins=[0,10,20,30,40,50,60,70,80,90,100], color='purple', alpha=0.7)\n",
        "plt.xlabel('Age')\n",
        "plt.ylabel('Count')\n",
        "plt.title('Users Age Distribution')\n",
        "plt.show()"
      ],
      "metadata": {
        "id": "RhDJ2h0XJwnc"
      },
      "execution_count": null,
      "outputs": []
    },
    {
      "cell_type": "markdown",
      "source": [
        "## The most active book readers are in the age between 20-30 group."
      ],
      "metadata": {
        "id": "G8mgX8hwJ0wY"
      }
    },
    {
      "cell_type": "code",
      "source": [
        "# checking outliers through boxplot\n",
        "sns.boxplot(data=users, y='Age')"
      ],
      "metadata": {
        "id": "PID_aD9EJxmq"
      },
      "execution_count": null,
      "outputs": []
    },
    {
      "cell_type": "markdown",
      "source": [
        "## From the above boxplot we can observe that outliers are present in the Age column in the \"Users\" dataset."
      ],
      "metadata": {
        "id": "W_bkTrAsJ6sb"
      }
    },
    {
      "cell_type": "code",
      "source": [
        "# Checking the unique value of users age\n",
        "print(sorted(users.Age.unique()))"
      ],
      "metadata": {
        "id": "WmhFxZOwJxi_"
      },
      "execution_count": null,
      "outputs": []
    },
    {
      "cell_type": "code",
      "source": [
        "# Distplot\n",
        "sns.distplot(users.Age)\n",
        "plt.title('Age Distribution Plot')"
      ],
      "metadata": {
        "id": "IkMoADLUJxgK"
      },
      "execution_count": null,
      "outputs": []
    },
    {
      "cell_type": "markdown",
      "source": [
        "## Users age above 100 and below 5 does not make much sense for our book rating criteria. So we will replace these values by NaNs."
      ],
      "metadata": {
        "id": "LOis3Hc9KArH"
      }
    },
    {
      "cell_type": "markdown",
      "source": [
        "## From the above plot we can observe that age has positive Skewness so we can use median to fill Nan but for this we don't like to fill Nan value just for one range of age. So for that we will use the country column to fill Nan values."
      ],
      "metadata": {
        "id": "fjwNPZ7FKC8I"
      }
    },
    {
      "cell_type": "code",
      "source": [
        "# outlier data became NaN\n",
        "users.loc[(users.Age > 100) | (users.Age < 5), 'Age'] = np.nan"
      ],
      "metadata": {
        "id": "kRxV75wlJxeI"
      },
      "execution_count": null,
      "outputs": []
    },
    {
      "cell_type": "code",
      "source": [
        "users['Age'] = users['Age'].fillna(users.groupby('Country')['Age'].transform('median'))"
      ],
      "metadata": {
        "id": "m8YgpTbKJxcv"
      },
      "execution_count": null,
      "outputs": []
    },
    {
      "cell_type": "markdown",
      "source": [
        "Few values are still left with Nan so we will fill them by mean value."
      ],
      "metadata": {
        "id": "LxEP4NtSKJ7E"
      }
    },
    {
      "cell_type": "code",
      "source": [
        "users['Age'].fillna(users.Age.mean(),inplace=True)"
      ],
      "metadata": {
        "id": "m9qETZXlJxat"
      },
      "execution_count": null,
      "outputs": []
    },
    {
      "cell_type": "code",
      "source": [
        "users.isna().sum()"
      ],
      "metadata": {
        "id": "gAwuBVprJxYI"
      },
      "execution_count": null,
      "outputs": []
    },
    {
      "cell_type": "markdown",
      "source": [
        "## **EDA on Books Dataset**"
      ],
      "metadata": {
        "id": "PURkVMbXKRVP"
      }
    },
    {
      "cell_type": "code",
      "source": [
        "books.head()"
      ],
      "metadata": {
        "id": "5RlCQKVvJxVd"
      },
      "execution_count": null,
      "outputs": []
    },
    {
      "cell_type": "code",
      "source": [
        "plt.figure(figsize=(17,8))\n",
        "sns.countplot(y='Publisher',data=books,order=pd.value_counts(books['Publisher']).iloc[:10].index)\n",
        "plt.title('Top 10 Publishers')"
      ],
      "metadata": {
        "id": "zMX8qOm0JxS3"
      },
      "execution_count": null,
      "outputs": []
    },
    {
      "cell_type": "markdown",
      "source": [
        "## Among all the publishers 'Harlequin' is the most popular and 'Warner Books' are the least popular in the top ten publishers category."
      ],
      "metadata": {
        "id": "0WKar7jQKY7L"
      }
    }
  ],
  "metadata": {
    "colab": {
      "name": "Book_Recommendation_System- Capstone_Project-Gaurav Gade.ipynb",
      "provenance": [],
      "collapsed_sections": [],
      "include_colab_link": true
    },
    "kernelspec": {
      "display_name": "Python 3",
      "name": "python3"
    },
    "language_info": {
      "name": "python"
    }
  },
  "nbformat": 4,
  "nbformat_minor": 0
}